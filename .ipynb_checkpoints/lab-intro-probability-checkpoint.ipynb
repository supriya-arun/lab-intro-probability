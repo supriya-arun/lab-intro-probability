{
 "cells": [
  {
   "cell_type": "markdown",
   "metadata": {},
   "source": [
    "# Lab | Intro to Probability"
   ]
  },
  {
   "cell_type": "markdown",
   "metadata": {},
   "source": [
    "**Objective**\n",
    "\n",
    "Welcome to this Intro to Probability lab, where we explore decision-making scenarios through the lens of probability and strategic analysis. In the business world, making informed decisions is crucial, especially when faced with uncertainties. This lab focuses on scenarios where probabilistic outcomes play a significant role in shaping strategies and outcomes. Students will engage in exercises that require assessing and choosing optimal paths based on data-driven insights. The goal is to enhance your skills by applying probability concepts to solve real-world problems."
   ]
  },
  {
   "cell_type": "markdown",
   "metadata": {},
   "source": [
    "**Challenge 1**"
   ]
  },
  {
   "cell_type": "markdown",
   "metadata": {},
   "source": [
    "#### Ironhack Airlines \n",
    "\n",
    "Often Airlines sell more tickets than they have seats available, this is called overbooking. Consider the following:\n",
    "- A plane has 450 seats. \n",
    "- Based on historical data we conclude that each individual passenger has a 3% chance of missing it's flight. \n",
    "\n",
    "If the Ironhack Airlines routinely sells 460 tickets, what is the chance that they have a seats for all passenger?"
   ]
  },
  {
   "cell_type": "code",
   "execution_count": 1,
   "metadata": {},
   "outputs": [
    {
     "name": "stdout",
     "output_type": "stream",
     "text": [
      "Mean number of passengers showing up (μ): 446.20\n",
      "Standard deviation (σ): 3.66\n",
      "Z-score for X = 450: 1.04\n",
      "Probability of having seats for all passengers (P(X ≤ 450)): 0.8505\n"
     ]
    }
   ],
   "source": [
    "#code here\n",
    "\n",
    "import numpy as np\n",
    "import scipy.stats as stats\n",
    "\n",
    "n = 460  # Number of tickets sold\n",
    "p_miss = 0.03  # Probability of missing flight\n",
    "p_show = 1 - p_miss  # Probability of showing up\n",
    "s = 450  # Number of seats available\n",
    "\n",
    "#Calculating mean and standard deviation\n",
    "mu = n * p_show\n",
    "sigma = np.sqrt(n * p_miss * p_show)\n",
    "X = s\n",
    "z_score = (X - mu) / sigma\n",
    "\n",
    "# Step 3: Calculate the probability using the Z-score\n",
    "probability = stats.norm.cdf(z_score)\n",
    "\n",
    "# Output the results\n",
    "print(f\"Mean number of passengers showing up (μ): {mu:.2f}\")\n",
    "print(f\"Standard deviation (σ): {sigma:.2f}\")\n",
    "print(f\"Z-score for X = {X}: {z_score:.2f}\")\n",
    "print(f\"Probability of having seats for all passengers (P(X ≤ 450)): {probability:.4f}\")\n"
   ]
  },
  {
   "cell_type": "markdown",
   "metadata": {},
   "source": [
    "**Challenge 2**"
   ]
  },
  {
   "cell_type": "markdown",
   "metadata": {},
   "source": [
    "#### Ironhack Call Center "
   ]
  },
  {
   "cell_type": "markdown",
   "metadata": {},
   "source": [
    "Suppose a customer service representative at a call center is handling customer complaints. Consider the following:\n",
    "- The probability of successfully resolving a customer complaint on the first attempt is 0.3. \n",
    "\n",
    "\n",
    "What is the probability that the representative needs to make at least three attempts before successfully resolving a customer complaint?"
   ]
  },
  {
   "cell_type": "code",
   "execution_count": 3,
   "metadata": {},
   "outputs": [
    {
     "name": "stdout",
     "output_type": "stream",
     "text": [
      "Probability of needing at least 3 attempts: 0.4900\n"
     ]
    }
   ],
   "source": [
    "#code here\n",
    "\n",
    "p = 0.3\n",
    "q = 1 - p\n",
    "\n",
    "probability_at_least_three_attempts = q ** 2  # (q)^2 for first two failures\n",
    "print(f\"Probability of needing at least 3 attempts: {probability_at_least_three_attempts:.4f}\")\n"
   ]
  },
  {
   "cell_type": "markdown",
   "metadata": {},
   "source": [
    "**Challenge 3**"
   ]
  },
  {
   "cell_type": "markdown",
   "metadata": {},
   "source": [
    "#### Ironhack Website"
   ]
  },
  {
   "cell_type": "markdown",
   "metadata": {},
   "source": [
    "Consider a scenario related to Ironhack website traffic. Where:\n",
    "- our website takes on average 500 visits per hour.\n",
    "- the website's server is designed to handle up to 550 vists per hour.\n",
    "\n",
    "\n",
    "What is the probability of the website server being overwhelmed?"
   ]
  },
  {
   "cell_type": "code",
   "execution_count": 5,
   "metadata": {},
   "outputs": [
    {
     "name": "stdout",
     "output_type": "stream",
     "text": [
      "Probability of the website server being overwhelmed (more than 550 visits): 0.0129\n"
     ]
    }
   ],
   "source": [
    "#code here\n",
    "import scipy.stats as stats\n",
    "\n",
    "lambda_value = 500 \n",
    "threshold = 550 \n",
    "\n",
    "# Calculate the probability of having more than 550 visits\n",
    "probability_overwhelmed = 1 - stats.poisson.cdf(threshold, lambda_value)\n",
    "\n",
    "# result\n",
    "print(f\"Probability of the website server being overwhelmed (more than {threshold} visits): {probability_overwhelmed:.4f}\")\n"
   ]
  },
  {
   "cell_type": "markdown",
   "metadata": {},
   "source": [
    "What is the probability of being overwhelmed at some point during a day? (consider 24hours)"
   ]
  },
  {
   "cell_type": "code",
   "execution_count": 1,
   "metadata": {},
   "outputs": [
    {
     "name": "stdout",
     "output_type": "stream",
     "text": [
      "Probability of being overwhelmed at least once during a 24-hour period: 0.2677\n"
     ]
    }
   ],
   "source": [
    "#code here\n",
    "\n",
    "# Given probability of being overwhelmed in one hour\n",
    "probability_overwhelmed_1hour = 0.0129\n",
    "\n",
    "# Probability of not being overwhelmed in one hour\n",
    "probability_not_overwhelmed_1hour = 1 - probability_overwhelmed_1hour\n",
    "\n",
    "# Calculate probability of not being overwhelmed over 24 hours\n",
    "probability_not_overwhelmed_24_hours = probability_not_overwhelmed_1hour ** 24\n",
    "\n",
    "# Calculate probability of being overwhelmed at least once in 24 hours\n",
    "probability_overwhelmed_at_least_once_24_hours = 1 - probability_not_overwhelmed_24_hours\n",
    "\n",
    "# Output the result\n",
    "print(f\"Probability of being overwhelmed at least once during a 24-hour period: {probability_overwhelmed_at_least_once_24_hours:.4f}\")\n"
   ]
  },
  {
   "cell_type": "markdown",
   "metadata": {},
   "source": [
    "**Challenge 4**"
   ]
  },
  {
   "cell_type": "markdown",
   "metadata": {},
   "source": [
    "#### Ironhack Helpdesk"
   ]
  },
  {
   "cell_type": "markdown",
   "metadata": {},
   "source": [
    "Consider a scenario related to the time between arrivals of customers at a service desk.\n",
    "\n",
    "On average, a customers arrives every 10minutes.\n",
    "\n",
    "What is the probability that the next customer will arrive within the next 5 minutes?"
   ]
  },
  {
   "cell_type": "code",
   "execution_count": 7,
   "metadata": {},
   "outputs": [
    {
     "name": "stdout",
     "output_type": "stream",
     "text": [
      "Probability that the next customer will arrive within the next 5 minutes: 0.3935\n"
     ]
    }
   ],
   "source": [
    "import numpy as np\n",
    "\n",
    "mean_time = 10 \n",
    "lambda_value = 1 / mean_time \n",
    "\n",
    "# Time until next customer arrival\n",
    "t = 5 \n",
    "\n",
    "# Calculate the probability that the next customer arrives within the next 5 minutes\n",
    "probability_within_5_minutes = 1 - np.exp(-lambda_value * t)\n",
    "\n",
    "# Output the result\n",
    "print(f\"Probability that the next customer will arrive within the next {t} minutes: {probability_within_5_minutes:.4f}\")\n"
   ]
  },
  {
   "cell_type": "markdown",
   "metadata": {},
   "source": [
    "If there is no customer for 15minutes, employees can that a 5minutes break.\n",
    "\n",
    "What is the probability an employee taking a break?"
   ]
  },
  {
   "cell_type": "code",
   "execution_count": 11,
   "metadata": {},
   "outputs": [
    {
     "name": "stdout",
     "output_type": "stream",
     "text": [
      "Probability that the employee can take a break: 0.1353\n"
     ]
    }
   ],
   "source": [
    "import numpy as np\n",
    "# Total waiting time (15 minutes without customers + 5 minutes break)\n",
    "t_break = 15 + 5 \n",
    "\n",
    "# Calculate the probability that the next customer arrives after 20 minutes\n",
    "probability_take_break = np.exp(-lambda_value * t_break)\n",
    "\n",
    "# Output the result\n",
    "print(f\"Probability that the employee can take a break: {probability_take_break:.4f}\")\n"
   ]
  },
  {
   "cell_type": "markdown",
   "metadata": {},
   "source": [
    "**Challenge 5**"
   ]
  },
  {
   "cell_type": "markdown",
   "metadata": {},
   "source": [
    "The weights of a certain species of birds follow a normal distribution with a mean weight of 150 grams and a standard deviation of 10 grams. \n",
    "\n",
    "- If we randomly select a bird, what is the probability that its weight is between 140 and 160 grams?"
   ]
  },
  {
   "cell_type": "code",
   "execution_count": 13,
   "metadata": {},
   "outputs": [
    {
     "name": "stdout",
     "output_type": "stream",
     "text": [
      "Probability that a randomly selected bird weighs between 140 and 160 grams: 0.6827\n"
     ]
    }
   ],
   "source": [
    "#code here\n",
    "import scipy.stats as stats\n",
    "\n",
    "# Parameters\n",
    "mean = 150  # Mean weight in grams\n",
    "std_dev = 10  # Standard deviation in grams\n",
    "\n",
    "# Values to calculate probabilities for\n",
    "lower_bound = 140\n",
    "upper_bound = 160\n",
    "\n",
    "# Calculate Z-scores\n",
    "z_lower = (lower_bound - mean) / std_dev\n",
    "z_upper = (upper_bound - mean) / std_dev\n",
    "\n",
    "# Calculate probabilities using the cumulative distribution function (CDF)\n",
    "p_lower = stats.norm.cdf(z_lower)\n",
    "p_upper = stats.norm.cdf(z_upper)\n",
    "\n",
    "# Calculate the probability that the weight is between 140 and 160 grams\n",
    "probability = p_upper - p_lower\n",
    "\n",
    "# Output the result\n",
    "print(f\"Probability that a randomly selected bird weighs between {lower_bound} and {upper_bound} grams: {probability:.4f}\")\n"
   ]
  },
  {
   "cell_type": "markdown",
   "metadata": {},
   "source": [
    "**Challenge 6**"
   ]
  },
  {
   "cell_type": "markdown",
   "metadata": {},
   "source": [
    "If the lifetime (in hours) of a certain electronic component follows an exponential distribution with a mean lifetime of 50 hours, what is the probability that the component fails within the first 30 hours?"
   ]
  },
  {
   "cell_type": "code",
   "execution_count": 15,
   "metadata": {},
   "outputs": [
    {
     "name": "stdout",
     "output_type": "stream",
     "text": [
      "Probability that the component fails within the first 30 hours: 0.4512\n"
     ]
    }
   ],
   "source": [
    "#code here\n",
    "\n",
    "mean_lifetime = 50\n",
    "lambda_value = 1 / mean_lifetime\n",
    "\n",
    "# Time for failure\n",
    "t = 30 \n",
    "\n",
    "# Calculate the probability that the component fails within the first 30 hours\n",
    "probability_fail_within_30_hours = 1 - np.exp(-lambda_value * t)\n",
    "\n",
    "# Output the result\n",
    "print(f\"Probability that the component fails within the first {t} hours: {probability_fail_within_30_hours:.4f}\")\n"
   ]
  },
  {
   "cell_type": "code",
   "execution_count": null,
   "metadata": {},
   "outputs": [],
   "source": []
  }
 ],
 "metadata": {
  "kernelspec": {
   "display_name": "Python 3 (ipykernel)",
   "language": "python",
   "name": "python3"
  },
  "language_info": {
   "codemirror_mode": {
    "name": "ipython",
    "version": 3
   },
   "file_extension": ".py",
   "mimetype": "text/x-python",
   "name": "python",
   "nbconvert_exporter": "python",
   "pygments_lexer": "ipython3",
   "version": "3.12.4"
  }
 },
 "nbformat": 4,
 "nbformat_minor": 4
}
